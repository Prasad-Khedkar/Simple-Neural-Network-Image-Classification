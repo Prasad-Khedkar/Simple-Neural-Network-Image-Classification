{
  "nbformat": 4,
  "nbformat_minor": 0,
  "metadata": {
    "colab": {
      "provenance": [],
      "authorship_tag": "ABX9TyPnHBUWE+Wpm+N6tCLGyRbj",
      "include_colab_link": true
    },
    "kernelspec": {
      "name": "python3",
      "display_name": "Python 3"
    },
    "language_info": {
      "name": "python"
    }
  },
  "cells": [
    {
      "cell_type": "markdown",
      "metadata": {
        "id": "view-in-github",
        "colab_type": "text"
      },
      "source": [
        "<a href=\"https://colab.research.google.com/github/Prasad-Khedkar/Simple-Neural-Network-Image-Classification/blob/main/Simple_Image_classification_using_ANN.ipynb\" target=\"_parent\"><img src=\"https://colab.research.google.com/assets/colab-badge.svg\" alt=\"Open In Colab\"/></a>"
      ]
    },
    {
      "cell_type": "markdown",
      "source": [
        "## Imorting Libraries"
      ],
      "metadata": {
        "id": "92ky_59keOEv"
      }
    },
    {
      "cell_type": "code",
      "execution_count": 1,
      "metadata": {
        "id": "w7VAA0Nub3dG"
      },
      "outputs": [],
      "source": [
        "import tensorflow as tf\n",
        "import pandas as pd\n",
        "import numpy as np\n",
        "import matplotlib.pyplot as plt\n",
        "import seaborn as sns\n",
        "\n",
        "\n",
        "from sklearn.metrics import confusion_matrix , accuracy_score"
      ]
    },
    {
      "cell_type": "markdown",
      "source": [
        "## Loading Data"
      ],
      "metadata": {
        "id": "m_6ELZmjbtRF"
      }
    },
    {
      "cell_type": "code",
      "source": [
        "from tensorflow.keras.datasets import fashion_mnist"
      ],
      "metadata": {
        "id": "Zz146OKUbsg2"
      },
      "execution_count": 2,
      "outputs": []
    },
    {
      "cell_type": "code",
      "source": [
        "(x_train,y_train),(x_test, y_test) = fashion_mnist.load_data()"
      ],
      "metadata": {
        "id": "SCuhMwH3bzlM"
      },
      "execution_count": 3,
      "outputs": []
    },
    {
      "cell_type": "code",
      "source": [
        "x_train.shape,y_train.shape"
      ],
      "metadata": {
        "colab": {
          "base_uri": "https://localhost:8080/"
        },
        "id": "r0XXRzLEbziP",
        "outputId": "0668972e-bc03-403e-838a-f0a3e8805c25"
      },
      "execution_count": 4,
      "outputs": [
        {
          "output_type": "execute_result",
          "data": {
            "text/plain": [
              "((60000, 28, 28), (60000,))"
            ]
          },
          "metadata": {},
          "execution_count": 4
        }
      ]
    },
    {
      "cell_type": "code",
      "source": [
        "x_test.shape,y_test.shape"
      ],
      "metadata": {
        "colab": {
          "base_uri": "https://localhost:8080/"
        },
        "id": "wVfpO3w-bzeY",
        "outputId": "28fd6b33-6803-4455-e1b3-bfd51d12ca8f"
      },
      "execution_count": 5,
      "outputs": [
        {
          "output_type": "execute_result",
          "data": {
            "text/plain": [
              "((10000, 28, 28), (10000,))"
            ]
          },
          "metadata": {},
          "execution_count": 5
        }
      ]
    },
    {
      "cell_type": "code",
      "source": [
        "np.max(x_train), np.max(y_train)         ## Training set"
      ],
      "metadata": {
        "colab": {
          "base_uri": "https://localhost:8080/"
        },
        "id": "3jqmTjEibzcs",
        "outputId": "cd6bda11-8c24-43a6-f86e-5e8920584a6e"
      },
      "execution_count": 6,
      "outputs": [
        {
          "output_type": "execute_result",
          "data": {
            "text/plain": [
              "(255, 9)"
            ]
          },
          "metadata": {},
          "execution_count": 6
        }
      ]
    },
    {
      "cell_type": "code",
      "source": [
        "np.max(x_test), np.max(y_test)          ## Test set"
      ],
      "metadata": {
        "colab": {
          "base_uri": "https://localhost:8080/"
        },
        "id": "pF4NQDo2byxA",
        "outputId": "8dc3ce3c-c2d1-42f5-e07f-d95fe6ac0ef8"
      },
      "execution_count": 7,
      "outputs": [
        {
          "output_type": "execute_result",
          "data": {
            "text/plain": [
              "(255, 9)"
            ]
          },
          "metadata": {},
          "execution_count": 7
        }
      ]
    },
    {
      "cell_type": "code",
      "source": [
        "class_labels = ['0 Top/T-shirt' , '1 Trouser' , '2 Pullover', '3 Dress','4 Coat', '5 Sandal','6 Shirt','7 Sneaker', '8 Bag','9 Ankle Boot']\n",
        "print(class_labels)"
      ],
      "metadata": {
        "colab": {
          "base_uri": "https://localhost:8080/"
        },
        "id": "gWAYHy9gcG_j",
        "outputId": "b3d3ca5a-a0d7-4459-aed0-b5da9c2c8e03"
      },
      "execution_count": 8,
      "outputs": [
        {
          "output_type": "stream",
          "name": "stdout",
          "text": [
            "['0 Top/T-shirt', '1 Trouser', '2 Pullover', '3 Dress', '4 Coat', '5 Sandal', '6 Shirt', '7 Sneaker', '8 Bag', '9 Ankle Boot']\n"
          ]
        }
      ]
    },
    {
      "cell_type": "markdown",
      "source": [
        "## Data Explore"
      ],
      "metadata": {
        "id": "AAZ7SQKpeZuM"
      }
    },
    {
      "cell_type": "code",
      "source": [
        "## Data Explore\n",
        "plt.figure()\n",
        "plt.imshow(x_train[59000])\n",
        "plt.colorbar()\n",
        "y_train[59000]"
      ],
      "metadata": {
        "colab": {
          "base_uri": "https://localhost:8080/",
          "height": 282
        },
        "id": "wSUYYiIkcG8Y",
        "outputId": "ea5da815-8862-4fac-bcb4-1f1f3b2b993d"
      },
      "execution_count": 9,
      "outputs": [
        {
          "output_type": "execute_result",
          "data": {
            "text/plain": [
              "8"
            ]
          },
          "metadata": {},
          "execution_count": 9
        },
        {
          "output_type": "display_data",
          "data": {
            "text/plain": [
              "<Figure size 432x288 with 2 Axes>"
            ],
            "image/png": "[encoded data removed]"
          },
          "metadata": {
            "needs_background": "light"
          }
        }
      ]
    },
    {
      "cell_type": "markdown",
      "source": [
        "## Normalizing"
      ],
      "metadata": {
        "id": "prqIUCj1ekou"
      }
    },
    {
      "cell_type": "code",
      "source": [
        "## Normalize the dataset\n",
        "\n",
        "x_train = x_train / 255.0\n",
        "x_test = x_test /255.0"
      ],
      "metadata": {
        "id": "crs00BOhcG4t"
      },
      "execution_count": 10,
      "outputs": []
    },
    {
      "cell_type": "markdown",
      "source": [
        "## Data Flattening for ANN"
      ],
      "metadata": {
        "id": "vBy1cUEHefXV"
      }
    },
    {
      "cell_type": "code",
      "source": [
        "## Flattening the dataset\n",
        "\n",
        "x_train.shape,x_test.shape\n",
        "\n",
        "x_train = x_train.reshape(-1,28*28)\n",
        "x_test = x_test.reshape(-1,28*28)"
      ],
      "metadata": {
        "id": "GcSa7TKlcG2t"
      },
      "execution_count": 11,
      "outputs": []
    },
    {
      "cell_type": "code",
      "source": [
        "x_train.shape\n",
        "\n",
        "x_train.size         ## Total no. of images in x_train"
      ],
      "metadata": {
        "colab": {
          "base_uri": "https://localhost:8080/"
        },
        "id": "Ij_U69wLcYdS",
        "outputId": "a77ec1f7-c057-478d-8017-d08d406d4de1"
      },
      "execution_count": 12,
      "outputs": [
        {
          "output_type": "execute_result",
          "data": {
            "text/plain": [
              "47040000"
            ]
          },
          "metadata": {},
          "execution_count": 12
        }
      ]
    },
    {
      "cell_type": "markdown",
      "source": [
        "## Model Building & Compiling"
      ],
      "metadata": {
        "id": "7f77Zhwjeoyh"
      }
    },
    {
      "cell_type": "code",
      "source": [
        "## Building Model\n",
        "\n",
        "## Model object\n",
        "model = tf.keras.models.Sequential()      ## sequence of layers"
      ],
      "metadata": {
        "id": "gXgVHBkQcYad"
      },
      "execution_count": 13,
      "outputs": []
    },
    {
      "cell_type": "code",
      "source": [
        "## Adding first fully connected hidden layer\n",
        "## No. of neurons = 128\n",
        "## activation function = ReLu\n",
        "## input shape = 784\n",
        "\n",
        "model.add(tf.keras.layers.Dense(units = 128 , activation = 'relu' , input_shape = (784,)))\n"
      ],
      "metadata": {
        "id": "LDCf5bq_cYYd"
      },
      "execution_count": 14,
      "outputs": []
    },
    {
      "cell_type": "code",
      "source": [
        "## adding the second layer with dropout\n",
        "\n",
        "model.add(tf.keras.layers.Dropout(0.3))        ## a regularization technique , prevents overfitting"
      ],
      "metadata": {
        "id": "ksFjIlnDcYUy"
      },
      "execution_count": 15,
      "outputs": []
    },
    {
      "cell_type": "code",
      "source": [
        "## adding the output layer .In output layer we have to add only two parameters -\n",
        "## 1) units = 10 because we have 10 classes for this prob....output variables\n",
        "## 2) activation function = softmax...since we have more than 2 categories(10)..therefore we are using softmax otherwise ,\n",
        "## for binary classification we use sigmoid fun\n",
        "\n",
        "model.add(tf.keras.layers.Dense(units = 10 , activation = 'softmax'))"
      ],
      "metadata": {
        "id": "3OAo6eY8cYTI"
      },
      "execution_count": 16,
      "outputs": []
    },
    {
      "cell_type": "code",
      "source": [
        "## Compiling the model\n",
        "\n",
        "## here the model is compiled \n",
        "## 1) Optimizer - adam (minimize the loss function)  adam - adaptive moment estimation is a popular optimization - \n",
        "## algorithm used in deep learning for updating the parameters of a neural network\n",
        "\n",
        "## 2)loss function  = sparse categorical cross entropy (SCCE)\n",
        "## 3) metrics = sparse_categorical_accuracy\n",
        "\n",
        "model.compile(optimizer = 'adam', loss = 'sparse_categorical_crossentropy', metrics = 'sparse_categorical_accuracy')"
      ],
      "metadata": {
        "id": "ajUr0oYKc9zw"
      },
      "execution_count": 17,
      "outputs": []
    },
    {
      "cell_type": "markdown",
      "source": [
        "## Model Summary"
      ],
      "metadata": {
        "id": "mFLQj0woev0O"
      }
    },
    {
      "cell_type": "code",
      "source": [
        "## model summary\n",
        "model.summary()"
      ],
      "metadata": {
        "colab": {
          "base_uri": "https://localhost:8080/"
        },
        "id": "K-61QLl4c9ww",
        "outputId": "432774c1-c473-460a-ed07-47be10a2b182"
      },
      "execution_count": 18,
      "outputs": [
        {
          "output_type": "stream",
          "name": "stdout",
          "text": [
            "Model: \"sequential\"\n",
            "_________________________________________________________________\n",
            " Layer (type)                Output Shape              Param #   \n",
            "=================================================================\n",
            " dense (Dense)               (None, 128)               100480    \n",
            "                                                                 \n",
            " dropout (Dropout)           (None, 128)               0         \n",
            "                                                                 \n",
            " dense_1 (Dense)             (None, 10)                1290      \n",
            "                                                                 \n",
            "=================================================================\n",
            "Total params: 101,770\n",
            "Trainable params: 101,770\n",
            "Non-trainable params: 0\n",
            "_________________________________________________________________\n"
          ]
        }
      ]
    },
    {
      "cell_type": "markdown",
      "source": [
        "## Fitting Model"
      ],
      "metadata": {
        "id": "mirQHy3DeznX"
      }
    },
    {
      "cell_type": "code",
      "source": [
        "## Training the model\n",
        "\n",
        "model.fit(x_train,y_train , epochs = 10)"
      ],
      "metadata": {
        "colab": {
          "base_uri": "https://localhost:8080/"
        },
        "id": "H1o8TW0tc9uc",
        "outputId": "7830c478-de1d-43a2-eef9-4229265e12f2"
      },
      "execution_count": 19,
      "outputs": [
        {
          "output_type": "stream",
          "name": "stdout",
          "text": [
            "Epoch 1/10\n",
            "1875/1875 [==============================] - 8s 4ms/step - loss: 0.5568 - sparse_categorical_accuracy: 0.8041\n",
            "Epoch 2/10\n",
            "1875/1875 [==============================] - 11s 6ms/step - loss: 0.4218 - sparse_categorical_accuracy: 0.8468\n",
            "Epoch 3/10\n",
            "1875/1875 [==============================] - 9s 5ms/step - loss: 0.3899 - sparse_categorical_accuracy: 0.8580\n",
            "Epoch 4/10\n",
            "1875/1875 [==============================] - 5s 2ms/step - loss: 0.3713 - sparse_categorical_accuracy: 0.8622\n",
            "Epoch 5/10\n",
            "1875/1875 [==============================] - 6s 3ms/step - loss: 0.3542 - sparse_categorical_accuracy: 0.8706\n",
            "Epoch 6/10\n",
            "1875/1875 [==============================] - 5s 3ms/step - loss: 0.3413 - sparse_categorical_accuracy: 0.8743\n",
            "Epoch 7/10\n",
            "1875/1875 [==============================] - 6s 3ms/step - loss: 0.3322 - sparse_categorical_accuracy: 0.8765\n",
            "Epoch 8/10\n",
            "1875/1875 [==============================] - 5s 3ms/step - loss: 0.3209 - sparse_categorical_accuracy: 0.8819\n",
            "Epoch 9/10\n",
            "1875/1875 [==============================] - 7s 4ms/step - loss: 0.3163 - sparse_categorical_accuracy: 0.8834\n",
            "Epoch 10/10\n",
            "1875/1875 [==============================] - 5s 2ms/step - loss: 0.3092 - sparse_categorical_accuracy: 0.8853\n"
          ]
        },
        {
          "output_type": "execute_result",
          "data": {
            "text/plain": [
              "<keras.callbacks.History at 0x7fe4bf005b20>"
            ]
          },
          "metadata": {},
          "execution_count": 19
        }
      ]
    },
    {
      "cell_type": "markdown",
      "source": [
        "## Model Evaluation"
      ],
      "metadata": {
        "id": "7KiLdzNse5p9"
      }
    },
    {
      "cell_type": "code",
      "source": [
        "test_loss, test_accuracy = model.evaluate(x_test, y_test)\n",
        "\n",
        "print(test_loss,test_accuracy)"
      ],
      "metadata": {
        "colab": {
          "base_uri": "https://localhost:8080/"
        },
        "id": "zy5lRKtTc9sN",
        "outputId": "2c4fa364-0928-4332-e6f1-bccbb2ba0440"
      },
      "execution_count": 20,
      "outputs": [
        {
          "output_type": "stream",
          "name": "stdout",
          "text": [
            "313/313 [==============================] - 1s 1ms/step - loss: 0.3384 - sparse_categorical_accuracy: 0.8798\n",
            "0.3384113013744354 0.879800021648407\n"
          ]
        }
      ]
    },
    {
      "cell_type": "code",
      "source": [
        "## Predictions\n",
        "y_pred = np.argmax(model.predict(x_test),axis=1)    ## for multiclass && for binary classification use : \n",
        "##   y_pred=(model.predict(X_test) > 0.5).astype(\"int32\")`\n",
        "\n",
        "y_pred\n",
        "\n",
        "y_pred[99], y_test[99]"
      ],
      "metadata": {
        "colab": {
          "base_uri": "https://localhost:8080/"
        },
        "id": "jsByWdMUc9o2",
        "outputId": "f43bd39e-76b0-4f4b-d834-95e07fba0641"
      },
      "execution_count": 21,
      "outputs": [
        {
          "output_type": "stream",
          "name": "stdout",
          "text": [
            "313/313 [==============================] - 0s 1ms/step\n"
          ]
        },
        {
          "output_type": "execute_result",
          "data": {
            "text/plain": [
              "(2, 2)"
            ]
          },
          "metadata": {},
          "execution_count": 21
        }
      ]
    },
    {
      "cell_type": "markdown",
      "source": [
        "## Confusion matrix\n"
      ],
      "metadata": {
        "id": "pK1384Qre_iq"
      }
    },
    {
      "cell_type": "code",
      "source": [
        "cm = confusion_matrix(y_test, y_pred)\n",
        "print(cm)\n",
        "\n",
        "plt.figure(figsize = (8,8))\n",
        "sns.heatmap(cm , annot = True , cmap = 'Blues' , fmt = 'g')"
      ],
      "metadata": {
        "colab": {
          "base_uri": "https://localhost:8080/",
          "height": 674
        },
        "id": "EZP_js-Vc9nB",
        "outputId": "2f817e10-08bc-48a7-a090-3472ecc4ed40"
      },
      "execution_count": 22,
      "outputs": [
        {
          "output_type": "stream",
          "name": "stdout",
          "text": [
            "[[847   1  21  28   4   0  94   0   5   0]\n",
            " [  2 965   3  23   3   0   3   0   1   0]\n",
            " [ 14   0 846  13  76   0  50   0   1   0]\n",
            " [ 24   6  13 903  24   1  24   0   4   1]\n",
            " [  0   1 134  42 763   0  59   0   1   0]\n",
            " [  0   0   0   0   0 962   0  16   2  20]\n",
            " [133   1 131  33  66   0 630   0   6   0]\n",
            " [  0   0   0   0   0  26   0 935   0  39]\n",
            " [  5   0   3   4   4   2   4   3 975   0]\n",
            " [  1   0   0   0   0   7   0  20   0 972]]\n"
          ]
        },
        {
          "output_type": "execute_result",
          "data": {
            "text/plain": [
              "<matplotlib.axes._subplots.AxesSubplot at 0x7fe4c1f483a0>"
            ]
          },
          "metadata": {},
          "execution_count": 22
        },
        {
          "output_type": "display_data",
          "data": {
            "text/plain": [
              "<Figure size 576x576 with 2 Axes>"
            ],
            "image/png": "[encoded data removed]"
          },
          "metadata": {
            "needs_background": "light"
          }
        }
      ]
    },
    {
      "cell_type": "markdown",
      "source": [
        "## Accuracy score"
      ],
      "metadata": {
        "id": "Xh4FYPNnfK3l"
      }
    },
    {
      "cell_type": "code",
      "source": [
        "acc_cm = accuracy_score(y_test,y_pred)\n",
        "acc_cm"
      ],
      "metadata": {
        "colab": {
          "base_uri": "https://localhost:8080/"
        },
        "id": "ZErJAWXnaiog",
        "outputId": "04b7fe8f-8c56-4901-a548-ade7591c9a28"
      },
      "execution_count": 23,
      "outputs": [
        {
          "output_type": "execute_result",
          "data": {
            "text/plain": [
              "0.8798"
            ]
          },
          "metadata": {},
          "execution_count": 23
        }
      ]
    }
  ]
}